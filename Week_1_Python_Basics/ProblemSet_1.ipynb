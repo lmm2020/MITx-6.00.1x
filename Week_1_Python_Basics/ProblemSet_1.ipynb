{
 "cells": [
  {
   "cell_type": "code",
   "execution_count": 2,
   "metadata": {},
   "outputs": [
    {
     "name": "stdout",
     "output_type": "stream",
     "text": [
      "Number of vowels: 5\n"
     ]
    }
   ],
   "source": [
    "#count the number of vowels contained in the string s\n",
    "\n",
    "s = 'azcbobobegghakl'\n",
    "vowels = 'aeiou'\n",
    "\n",
    "count = 0 \n",
    "for letter in s:\n",
    "    if letter in vowels:\n",
    "        count += 1\n",
    "print(\"Number of vowels: \" + str(count))\n"
   ]
  },
  {
   "cell_type": "code",
   "execution_count": 1,
   "metadata": {},
   "outputs": [
    {
     "name": "stdout",
     "output_type": "stream",
     "text": [
      "Number of times bob occurs is 2\n"
     ]
    }
   ],
   "source": [
    "#print the number of times the string 'bob' occurs in s. \n",
    "\n",
    "s = 'azcbobobegghakl'\n",
    "bobs_found = 0\n",
    "count = 0 \n",
    "x = 3\n",
    "\n",
    "for letters in s: \n",
    "    if s[count:x]=='bob': ## s[count:x] is inching down the string one letter at a time. ##x counter allows to only view 3 letters at a time to check for bob \n",
    "        count+=1 \n",
    "        x+=1 \n",
    "        bobs_found+=1 \n",
    "    else: \n",
    "        count+=1 \n",
    "        x+=1\n",
    "print(\"Number of times bob occurs is \" + str(bobs_found))"
   ]
  },
  {
   "cell_type": "code",
   "execution_count": 4,
   "metadata": {},
   "outputs": [
    {
     "name": "stdout",
     "output_type": "stream",
     "text": [
      "Longest substring in alphabetical order is: beggh\n"
     ]
    }
   ],
   "source": [
    "#for reference: \n",
    "#ord('a') == 97  // ord('A') == 65\n",
    "#ord('b') == 98  // ord('B') == 66\n",
    "\n",
    "#if alphabet is compared the values should increase by 1: 97, 98, 99, 100\n",
    "#the second value MUST be greater by 1 than the first value to know that it is in order\n",
    "\n",
    "#print the longest substring of s in which the letters occur in alphabetical order.\n",
    "\n",
    "s = 'azcbobobegghakl' #15 characters\n",
    "current = s[0] #acting as a temp variable \n",
    "longest = s[0] #acting as a counter of the longest substring\n",
    "\n",
    "for x in range(len(s)-1): #for each letter in string s\n",
    "    #using ord function to compare ascii values not strings\n",
    "    #if position 2 is less than position 1\n",
    "    if ord(s[x+1]) < ord(s[x]): \n",
    "        #make current count position two\n",
    "        current = s[x+1]\n",
    "    else:\n",
    "        #add position two to current count\n",
    "        current += s[x+1]\n",
    "    #if length of current count is bigger than length of longest count so far..\n",
    "    if len(current) > len(longest):\n",
    "        #then reassign longest count with the current count\n",
    "        longest = current \n",
    "print(\"Longest substring in alphabetical order is: \" + str(longest))"
   ]
  }
 ],
 "metadata": {
  "kernelspec": {
   "display_name": "Python 3.9.6 64-bit",
   "language": "python",
   "name": "python3"
  },
  "language_info": {
   "codemirror_mode": {
    "name": "ipython",
    "version": 3
   },
   "file_extension": ".py",
   "mimetype": "text/x-python",
   "name": "python",
   "nbconvert_exporter": "python",
   "pygments_lexer": "ipython3",
   "version": "3.9.6"
  },
  "orig_nbformat": 4,
  "vscode": {
   "interpreter": {
    "hash": "35814977a283cd769a53edfec29b9560f6d54622677c01a029034c610ae113d2"
   }
  }
 },
 "nbformat": 4,
 "nbformat_minor": 2
}
