{
 "cells": [
  {
   "cell_type": "code",
   "execution_count": null,
   "metadata": {},
   "outputs": [],
   "source": [
    "'''\n",
    "In this problem, you'll create a program that guesses a secret number!\n",
    "\n",
    "The program works as follows: you (the user) thinks of an integer between 0 (inclusive) and 100 (not inclusive). \n",
    "The computer makes guesses, and you give it input - is its guess too high or too low? \n",
    "Using bisection search, the computer will guess the user's secret number!\n",
    "\n",
    "** Your program should use bisection search. So think carefully what that means. \n",
    "What will the first guess always be? How should you calculate subsequent guesses?\n",
    "\n",
    "** Your initial endpoints should be 0 and 100. \n",
    "Do not optimize your subsequent endpoints by making them be the halfway point plus or minus 1. \n",
    "Rather, just make them be the halfway point.\n",
    "\n",
    "Note: your program should use input to obtain the user's input! \n",
    "Be sure to handle the case when the user's input is not one of h, l, or c.\n",
    "\n",
    "When the user enters something invalid, you should print out a message to the user explaining you did not understand their input. \n",
    "Then, you should re-ask the question, and prompt again for input.\n",
    "\n",
    "'''"
   ]
  },
  {
   "cell_type": "code",
   "execution_count": 5,
   "metadata": {},
   "outputs": [
    {
     "name": "stdout",
     "output_type": "stream",
     "text": [
      "Please think of a number between 0 and 100!\n"
     ]
    }
   ],
   "source": [
    "print(\"Please think of a number between 0 and 100!\")"
   ]
  },
  {
   "cell_type": "code",
   "execution_count": 9,
   "metadata": {},
   "outputs": [
    {
     "name": "stdout",
     "output_type": "stream",
     "text": [
      "Is your secret number 0?\n"
     ]
    }
   ],
   "source": [
    "guess = 0 \n",
    "print(\"Is your secret number \" + str(guess) + \"?\")"
   ]
  },
  {
   "cell_type": "code",
   "execution_count": null,
   "metadata": {},
   "outputs": [],
   "source": []
  }
 ],
 "metadata": {
  "kernelspec": {
   "display_name": "Python 3.9.6 64-bit",
   "language": "python",
   "name": "python3"
  },
  "language_info": {
   "codemirror_mode": {
    "name": "ipython",
    "version": 3
   },
   "file_extension": ".py",
   "mimetype": "text/x-python",
   "name": "python",
   "nbconvert_exporter": "python",
   "pygments_lexer": "ipython3",
   "version": "3.9.6"
  },
  "orig_nbformat": 4,
  "vscode": {
   "interpreter": {
    "hash": "35814977a283cd769a53edfec29b9560f6d54622677c01a029034c610ae113d2"
   }
  }
 },
 "nbformat": 4,
 "nbformat_minor": 2
}
