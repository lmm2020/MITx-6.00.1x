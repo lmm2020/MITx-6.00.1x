{
 "cells": [
  {
   "cell_type": "code",
   "execution_count": null,
   "metadata": {},
   "outputs": [],
   "source": [
    "# 5000 balance \n",
    "# annual interest rate 18% \n",
    "# min monthly payment 2% \n",
    "\n",
    "# If you only pay the minimum monthly amount for a year, \n",
    "# how much is the remaining balance?"
   ]
  },
  {
   "cell_type": "code",
   "execution_count": null,
   "metadata": {},
   "outputs": [],
   "source": [
    "balance = 5000\n",
    "annualInterestRate = 18.0\n",
    "monthlyPaymentRate = 2.0\n",
    "\n",
    "def creditCardBalance(balance, annualInterestRate, monthlyPaymentRate):\n",
    "    monthlyInterestRate = (annualInterestRate) / 12.0 \n",
    "\n",
    "    for month in range(1,13): \n",
    "        balance - payment \n",
    "    previousBalance = ? \n",
    "    \n",
    "    minimumMonthlyPayment = (monthlyPaymentRate) * (previousBalance)\n",
    "    monthlyUnpaidBalance = (previousBalance) - (minimumMonthlyPayment)\n",
    "\n",
    "    updatedBalance = (monthlyUnpaidBalance) + (monthlyInterestRate * monthlyUnpaidBalance)\n",
    "    return balance"
   ]
  }
 ],
 "metadata": {
  "kernelspec": {
   "display_name": "Python 3.9.6 64-bit",
   "language": "python",
   "name": "python3"
  },
  "language_info": {
   "name": "python",
   "version": "3.9.6"
  },
  "orig_nbformat": 4,
  "vscode": {
   "interpreter": {
    "hash": "35814977a283cd769a53edfec29b9560f6d54622677c01a029034c610ae113d2"
   }
  }
 },
 "nbformat": 4,
 "nbformat_minor": 2
}
