{
 "cells": [
  {
   "cell_type": "code",
   "execution_count": null,
   "metadata": {},
   "outputs": [],
   "source": [
    "## Problem 1\n",
    "#Write a program to calculate the credit card balance after one year \n",
    "#if a person only pays the minimum monthly payment required by the credit card company each month.\n",
    "\n",
    "''' \n",
    "The following variables contain values as described below:\n",
    "\n",
    "balance - the outstanding balance on the credit card\n",
    "\n",
    "annualInterestRate - annual interest rate as a decimal\n",
    "\n",
    "monthlyPaymentRate - minimum monthly payment rate as a decimal\n",
    "\n",
    "For each month, calculate statements on the monthly payment and remaining balance. \n",
    "At the end of 12 months, print out the remaining balance. \n",
    "Be sure to print out no more than two decimal digits of accuracy\n",
    "\n",
    "A summary of the required math is found below:\n",
    "\n",
    "Monthly interest rate= (Annual interest rate) / 12.0\n",
    "Minimum monthly payment = (Minimum monthly payment rate) x (Previous balance)\n",
    "Monthly unpaid balance = (Previous balance) - (Minimum monthly payment)\n",
    "Updated balance each month = (Monthly unpaid balance) + (Monthly interest rate x Monthly unpaid balance)\n",
    "'''"
   ]
  },
  {
   "cell_type": "code",
   "execution_count": 11,
   "metadata": {},
   "outputs": [
    {
     "name": "stdout",
     "output_type": "stream",
     "text": [
      "Remaining balance: 31.38\n"
     ]
    }
   ],
   "source": [
    "balance = 42\n",
    "annualInterestRate = 0.2\n",
    "monthlyPaymentRate = 0.04\n",
    "\n",
    "remaining_bal = balance\n",
    "for month in range(1,13):\n",
    "    remaining_bal -= remaining_bal * monthlyPaymentRate\n",
    "    remaining_bal += remaining_bal * annualInterestRate / 12\n",
    "\n",
    "print('Remaining balance:', round(remaining_bal, 2))"
   ]
  },
  {
   "cell_type": "code",
   "execution_count": null,
   "metadata": {},
   "outputs": [],
   "source": [
    "## Problem 2 \n",
    "#Write a program that calculates the minimum fixed monthly payment needed in order pay off a credit card balance within 12 months. \n",
    "#By a fixed monthly payment, we mean a single number which does not change each month.\n",
    "\n",
    "''' \n",
    "In this problem, we will not be dealing with a minimum monthly payment rate.\n",
    "\n",
    "The following variables contain values as described below:\n",
    "balance - the outstanding balance on the credit card\n",
    "annualInterestRate - annual interest rate as a decimal\n",
    "The program should print out one line: the lowest monthly payment that will pay off all debt in under 1 year\n",
    "\n",
    "Monthly interest rate = (Annual interest rate) / 12.0\n",
    "Monthly unpaid balance = (Previous balance) - (Minimum fixed monthly payment)\n",
    "Updated balance each month = (Monthly unpaid balance) + (Monthly interest rate x Monthly unpaid balance)\n",
    "'''"
   ]
  },
  {
   "cell_type": "code",
   "execution_count": 9,
   "metadata": {},
   "outputs": [
    {
     "name": "stdout",
     "output_type": "stream",
     "text": [
      "Lowest payment: 310\n"
     ]
    }
   ],
   "source": [
    "balance = 3329\n",
    "annualInterestRate = 0.2\n",
    "\n",
    "principle = balance\n",
    "monthlyInterestRate = annualInterestRate/12\n",
    "lowestpayment = round((balance/12),-1)\n",
    "\n",
    "\n",
    "while balance > 0:\n",
    "    balance = principle\n",
    "    for month in range(1,13):\n",
    "        balance = (balance - lowestpayment)*(1+monthlyInterestRate)\n",
    "    lowestpayment += 10\n",
    "        \n",
    "\n",
    "print(\"Lowest payment: \" + str(int(lowestpayment-10)))"
   ]
  },
  {
   "cell_type": "code",
   "execution_count": null,
   "metadata": {},
   "outputs": [],
   "source": [
    "## Problem 3 \n",
    "#Use bisection seaerch to make the program faster \n",
    "\n",
    "''' \n",
    "You'll notice that in Problem 2, your monthly payment had to be a multiple of $10. Why did we make it that way? You can try running your code locally so that the payment can be any dollar and cent amount (in other words, the monthly payment is a multiple of $0.01). Does your code still work? It should, but you may notice that your code runs more slowly, especially in cases with very large balances and interest rates. (Note: when your code is running on our servers, there are limits on the amount of computing time each submission is allowed, so your observations from running this experiment on the grading system might be limited to an error message complaining about too much time taken.)\n",
    "Well then, how can we calculate a more accurate fixed monthly payment than we did in Problem 2 without running into the problem of slow code? We can make this program run faster using a technique introduced in lecture - bisection search!\n",
    "\n",
    "The following variables contain values as described below:\n",
    "balance - the outstanding balance on the credit card\n",
    "annualInterestRate - annual interest rate as a decimal\n",
    "\n",
    "To recap the problem: we are searching for the smallest monthly payment such that we can pay off the entire balance within a year. What is a reasonable lower bound for this payment value? $0 is the obvious answer, but you can do better than that. If there was no interest, the debt can be paid off by monthly payments of one-twelfth of the original balance, so we must pay at least this much every month. One-twelfth of the original balance is a good lower bound.\n",
    "\n",
    "What is a good upper bound? Imagine that instead of paying monthly, we paid off the entire balance at the end of the year. What we ultimately pay must be greater than what we would've paid in monthly installments, because the interest was compounded on the balance we didn't pay off each month. So a good upper bound for the monthly payment would be one-twelfth of the balance, after having its interest compounded monthly for an entire year.\n",
    "\n",
    "In short:\n",
    "\n",
    "Monthly interest rate = (Annual interest rate) / 12.0\n",
    "Monthly payment lower bound = Balance / 12\n",
    "Monthly payment upper bound = (Balance x (1 + Monthly interest rate)12) / 12.0\n",
    "\n",
    "Write a program that uses these bounds and bisection search (for more info check out the Wikipedia page on bisection search) to find the smallest monthly payment to the cent (no more multiples of $10) such that we can pay off the debt within a year. Try it out with large inputs, and notice how fast it is (try the same large inputs in your solution to Problem 2 to compare!). Produce the same return value as you did in Problem 2.\n",
    "'''"
   ]
  },
  {
   "cell_type": "code",
   "execution_count": 10,
   "metadata": {},
   "outputs": [
    {
     "name": "stdout",
     "output_type": "stream",
     "text": [
      "Lowest payment: 29157.09\n"
     ]
    }
   ],
   "source": [
    "balance = 320000\n",
    "annualInterestRate = 0.2\n",
    "\n",
    "principle = balance\n",
    "monthlyInterestRate = annualInterestRate/12\n",
    "UB = (balance * (1+annualInterestRate)) / 12\n",
    "LB = balance/12\n",
    "\n",
    "guess = (UB + LB)/2\n",
    "\n",
    "\n",
    "while round(balance, 1) != 0:\n",
    "    balance = principle\n",
    "    for month in range(1,13):\n",
    "        balance = (balance - guess)*(1+monthlyInterestRate)\n",
    "    if balance > 0:\n",
    "        LB = guess\n",
    "        guess = (UB + guess)/2\n",
    "        \n",
    "    elif balance < 0:\n",
    "        UB = guess\n",
    "        guess = (guess + LB)/2\n",
    "\n",
    "        \n",
    "if round(balance, 1)  == 0:\n",
    "    print(\"Lowest payment: \" + str(round(guess, 2)))"
   ]
  }
 ],
 "metadata": {
  "kernelspec": {
   "display_name": "Python 3.9.6 64-bit",
   "language": "python",
   "name": "python3"
  },
  "language_info": {
   "codemirror_mode": {
    "name": "ipython",
    "version": 3
   },
   "file_extension": ".py",
   "mimetype": "text/x-python",
   "name": "python",
   "nbconvert_exporter": "python",
   "pygments_lexer": "ipython3",
   "version": "3.9.6"
  },
  "orig_nbformat": 4,
  "vscode": {
   "interpreter": {
    "hash": "35814977a283cd769a53edfec29b9560f6d54622677c01a029034c610ae113d2"
   }
  }
 },
 "nbformat": 4,
 "nbformat_minor": 2
}
