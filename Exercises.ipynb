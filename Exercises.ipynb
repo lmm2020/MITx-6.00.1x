{
 "cells": [
  {
   "cell_type": "markdown",
   "metadata": {},
   "source": [
    "Unit 1.2"
   ]
  },
  {
   "cell_type": "code",
   "execution_count": 2,
   "metadata": {},
   "outputs": [
    {
     "name": "stdout",
     "output_type": "stream",
     "text": [
      "You got out of the Lost Forest\n"
     ]
    }
   ],
   "source": [
    "#While Loops\n",
    "\n",
    "n = input(\"You are in the Lost Forest. Go left of right? \")\n",
    "while n == \"right\":\n",
    "    n = input(\"You are in the Lost Forest. Go left of right? \")\n",
    "print(\"You got out of the Lost Forest\")"
   ]
  },
  {
   "cell_type": "code",
   "execution_count": 7,
   "metadata": {},
   "outputs": [
    {
     "name": "stdout",
     "output_type": "stream",
     "text": [
      "5\n"
     ]
    }
   ],
   "source": [
    "#for loops\n",
    "\n",
    "mysum = 0 \n",
    "\n",
    "for i in range(5,11,2):\n",
    "    mysum += i\n",
    "    if mysum == 5:\n",
    "        break\n",
    "\n",
    "print(mysum)"
   ]
  },
  {
   "cell_type": "code",
   "execution_count": null,
   "metadata": {},
   "outputs": [],
   "source": [
    "num = 100\n",
    "while not False:  #while the if statement is true...\n",
    "    if num < 0:   #if 100 is less than 0 (FALSE)\n",
    "        break      #exit this loop \n",
    "print('num is: ' + str(num))  #this is outside the loop, so print it? \n",
    "\n",
    "#infinite loop is correct answer "
   ]
  }
 ],
 "metadata": {
  "interpreter": {
   "hash": "35814977a283cd769a53edfec29b9560f6d54622677c01a029034c610ae113d2"
  },
  "kernelspec": {
   "display_name": "Python 3.9.6 64-bit",
   "language": "python",
   "name": "python3"
  },
  "language_info": {
   "codemirror_mode": {
    "name": "ipython",
    "version": 3
   },
   "file_extension": ".py",
   "mimetype": "text/x-python",
   "name": "python",
   "nbconvert_exporter": "python",
   "pygments_lexer": "ipython3",
   "version": "3.9.6"
  },
  "orig_nbformat": 4
 },
 "nbformat": 4,
 "nbformat_minor": 2
}
