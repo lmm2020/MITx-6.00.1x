{
 "cells": [
  {
   "cell_type": "markdown",
   "metadata": {},
   "source": [
    "Unit 1.2"
   ]
  },
  {
   "cell_type": "code",
   "execution_count": 1,
   "metadata": {},
   "outputs": [
    {
     "name": "stdout",
     "output_type": "stream",
     "text": [
      "You got out of the Lost Forest\n"
     ]
    }
   ],
   "source": [
    "#While Loops\n",
    "\n",
    "n = input(\"You are in the Lost Forest. Go left of right? \")\n",
    "while n == \"right\":\n",
    "    n = input(\"You are in the Lost Forest. Go left of right? \")\n",
    "print(\"You got out of the Lost Forest\")"
   ]
  },
  {
   "cell_type": "code",
   "execution_count": 2,
   "metadata": {},
   "outputs": [
    {
     "name": "stdout",
     "output_type": "stream",
     "text": [
      "50\n"
     ]
    }
   ],
   "source": [
    "#for loops\n",
    "\n",
    "mysum = 0 \n",
    "\n",
    "for i in range(6,15,2):\n",
    "    mysum += i\n",
    "    if mysum == 5:\n",
    "        break\n",
    "\n",
    "print(mysum)"
   ]
  },
  {
   "cell_type": "code",
   "execution_count": 3,
   "metadata": {},
   "outputs": [
    {
     "ename": "KeyboardInterrupt",
     "evalue": "",
     "output_type": "error",
     "traceback": [
      "\u001b[1;31m---------------------------------------------------------------------------\u001b[0m",
      "\u001b[1;31mKeyboardInterrupt\u001b[0m                         Traceback (most recent call last)",
      "\u001b[1;32mUbuntu-18.04\\home\\lmedina20\\MITx-6.00.1x\\Exercises.ipynb Cell 4'\u001b[0m in \u001b[0;36m<module>\u001b[1;34m\u001b[0m\n\u001b[0;32m      <a href='vscode-notebook-cell://wsl%24/Ubuntu-18.04/home/lmedina20/MITx-6.00.1x/Exercises.ipynb#ch0000003?line=0'>1</a>\u001b[0m num \u001b[39m=\u001b[39m \u001b[39m100\u001b[39m\n\u001b[0;32m      <a href='vscode-notebook-cell://wsl%24/Ubuntu-18.04/home/lmedina20/MITx-6.00.1x/Exercises.ipynb#ch0000003?line=1'>2</a>\u001b[0m \u001b[39mwhile\u001b[39;00m \u001b[39mnot\u001b[39;00m \u001b[39mFalse\u001b[39;00m:  \u001b[39m#while the if statement is true...\u001b[39;00m\n\u001b[1;32m----> <a href='vscode-notebook-cell://wsl%24/Ubuntu-18.04/home/lmedina20/MITx-6.00.1x/Exercises.ipynb#ch0000003?line=2'>3</a>\u001b[0m     \u001b[39mif\u001b[39;00m num \u001b[39m<\u001b[39m \u001b[39m0\u001b[39m:   \u001b[39m#if 100 is less than 0 (FALSE)\u001b[39;00m\n\u001b[0;32m      <a href='vscode-notebook-cell://wsl%24/Ubuntu-18.04/home/lmedina20/MITx-6.00.1x/Exercises.ipynb#ch0000003?line=3'>4</a>\u001b[0m         \u001b[39mbreak\u001b[39;00m      \u001b[39m#exit this loop \u001b[39;00m\n\u001b[0;32m      <a href='vscode-notebook-cell://wsl%24/Ubuntu-18.04/home/lmedina20/MITx-6.00.1x/Exercises.ipynb#ch0000003?line=4'>5</a>\u001b[0m \u001b[39mprint\u001b[39m(\u001b[39m'\u001b[39m\u001b[39mnum is: \u001b[39m\u001b[39m'\u001b[39m \u001b[39m+\u001b[39m \u001b[39mstr\u001b[39m(num))\n",
      "\u001b[1;31mKeyboardInterrupt\u001b[0m: "
     ]
    }
   ],
   "source": [
    "num = 100\n",
    "while not False:  #while the if statement is true...\n",
    "    if num < 0:   #if 100 is less than 0 (FALSE)\n",
    "        break      #exit this loop \n",
    "print('num is: ' + str(num))  #this is outside the loop, so print it? \n",
    "\n",
    "#infinite loop is correct answer "
   ]
  },
  {
   "cell_type": "code",
   "execution_count": 5,
   "metadata": {},
   "outputs": [
    {
     "name": "stdout",
     "output_type": "stream",
     "text": [
      "10\n",
      "9\n",
      "8\n",
      "7\n",
      "Breaking out of loop\n",
      "Outside of loop\n"
     ]
    }
   ],
   "source": [
    "num = 10\n",
    "while True:\n",
    "    if num < 7:\n",
    "        print('Breaking out of loop')\n",
    "        break\n",
    "    print(num)\n",
    "    num -= 1\n",
    "print('Outside of loop')\n",
    "\n",
    "#While the If statement is True, run through block of code\n",
    "    #if statement evaluates if num is less than 7\n",
    "    #if true, print out breaking out of loop and break this loop (loop includes the print num statement and the counter), then print outside of loop\n",
    "    #if false, then continute to the print(num) statement and counter and return back to if statement for reevaluation  "
   ]
  },
  {
   "cell_type": "code",
   "execution_count": 6,
   "metadata": {},
   "outputs": [
    {
     "ename": "KeyboardInterrupt",
     "evalue": "",
     "output_type": "error",
     "traceback": [
      "\u001b[1;31m---------------------------------------------------------------------------\u001b[0m",
      "\u001b[1;31mKeyboardInterrupt\u001b[0m                         Traceback (most recent call last)",
      "\u001b[1;32mUbuntu-18.04\\home\\lmedina20\\MITx-6.00.1x\\Exercises.ipynb Cell 6'\u001b[0m in \u001b[0;36m<module>\u001b[1;34m\u001b[0m\n\u001b[0;32m      <a href='vscode-notebook-cell://wsl%24/Ubuntu-18.04/home/lmedina20/MITx-6.00.1x/Exercises.ipynb#ch0000004?line=2'>3</a>\u001b[0m \u001b[39mwhile\u001b[39;00m numberOfLoops \u001b[39m<\u001b[39m \u001b[39m10\u001b[39m:\n\u001b[0;32m      <a href='vscode-notebook-cell://wsl%24/Ubuntu-18.04/home/lmedina20/MITx-6.00.1x/Exercises.ipynb#ch0000004?line=3'>4</a>\u001b[0m     numberOfApples \u001b[39m*\u001b[39m\u001b[39m=\u001b[39m \u001b[39m2\u001b[39m\n\u001b[1;32m----> <a href='vscode-notebook-cell://wsl%24/Ubuntu-18.04/home/lmedina20/MITx-6.00.1x/Exercises.ipynb#ch0000004?line=4'>5</a>\u001b[0m     numberOfApples \u001b[39m+\u001b[39m\u001b[39m=\u001b[39m numberOfLoops\n\u001b[0;32m      <a href='vscode-notebook-cell://wsl%24/Ubuntu-18.04/home/lmedina20/MITx-6.00.1x/Exercises.ipynb#ch0000004?line=5'>6</a>\u001b[0m     numberOfLoops \u001b[39m-\u001b[39m\u001b[39m=\u001b[39m \u001b[39m1\u001b[39m\n\u001b[0;32m      <a href='vscode-notebook-cell://wsl%24/Ubuntu-18.04/home/lmedina20/MITx-6.00.1x/Exercises.ipynb#ch0000004?line=6'>7</a>\u001b[0m \u001b[39mprint\u001b[39m(\u001b[39m\"\u001b[39m\u001b[39mNumber of apples: \u001b[39m\u001b[39m\"\u001b[39m \u001b[39m+\u001b[39m \u001b[39mstr\u001b[39m(numberOfApples))\n",
      "\u001b[1;31mKeyboardInterrupt\u001b[0m: "
     ]
    }
   ],
   "source": [
    "numberOfLoops = 0\n",
    "numberOfApples = 2\n",
    "while numberOfLoops < 10:\n",
    "    numberOfApples *= 2\n",
    "    numberOfApples += numberOfLoops\n",
    "    numberOfLoops -= 1\n",
    "print(\"Number of apples: \" + str(numberOfApples))\n",
    "\n",
    "#infinite loop "
   ]
  },
  {
   "cell_type": "code",
   "execution_count": 25,
   "metadata": {},
   "outputs": [
    {
     "name": "stdout",
     "output_type": "stream",
     "text": [
      "21\n"
     ]
    }
   ],
   "source": [
    "#Write a while loop that sums the values 1 through end, inclusive. end is a variable that we define for you. \n",
    "#So, for example, if we define end to be 6, your code should print out the result:21.  Which is 1 + 2 + 3 + 4 + 5 + 6.\n",
    "\n",
    "end = 6  \n",
    "total = 0\n",
    "\n",
    "while end:\n",
    "    total = total + end\n",
    "    end = end - 1\n",
    "print(total)"
   ]
  },
  {
   "cell_type": "code",
   "execution_count": 2,
   "metadata": {},
   "outputs": [
    {
     "name": "stdout",
     "output_type": "stream",
     "text": [
      "2\n",
      "4\n",
      "6\n",
      "8\n",
      "10\n",
      "Goodbye!\n"
     ]
    }
   ],
   "source": [
    "# convert the following into code that uses a while loop\n",
    "# prints 2\n",
    "# prints 4\n",
    "# prints 6\n",
    "# prints 8\n",
    "# prints 10\n",
    "# prints Goodbye!\n",
    "\n",
    "num = 2\n",
    "\n",
    "while num < 12:\n",
    "    print(num)\n",
    "    num += 2\n",
    "print(\"Goodbye!\")"
   ]
  },
  {
   "cell_type": "code",
   "execution_count": 4,
   "metadata": {},
   "outputs": [
    {
     "name": "stdout",
     "output_type": "stream",
     "text": [
      "Hello!\n",
      "10\n",
      "8\n",
      "6\n",
      "4\n",
      "2\n"
     ]
    }
   ],
   "source": [
    "# Convert the following into code that uses a while loop.\n",
    "\n",
    "# prints Hello!\n",
    "# prints 10\n",
    "# prints 8\n",
    "# prints 6\n",
    "# prints 4\n",
    "# prints 2\n",
    "\n",
    "num = 12\n",
    "\n",
    "print(\"Hello!\")\n",
    "while num > 2:\n",
    "    num -= 2\n",
    "    print(num)\n"
   ]
  },
  {
   "cell_type": "code",
   "execution_count": 5,
   "metadata": {},
   "outputs": [
    {
     "name": "stdout",
     "output_type": "stream",
     "text": [
      "2\n",
      "4\n",
      "6\n",
      "8\n",
      "10\n",
      "Goodbye!\n"
     ]
    }
   ],
   "source": [
    "# Convert the following code into code that uses a for loop.\n",
    "\n",
    "# prints 2\n",
    "# prints 4\n",
    "# prints 6\n",
    "# prints 8\n",
    "# prints 10\n",
    "# prints Goodbye!\n",
    "\n",
    "for num in range(2,11,2):  #(start, stop, step)    ##does stop include the number ? using 11 and 12 outputs the correct answer \n",
    "    print(num)\n",
    "print(\"Goodbye!\")"
   ]
  },
  {
   "cell_type": "code",
   "execution_count": 6,
   "metadata": {},
   "outputs": [
    {
     "name": "stdout",
     "output_type": "stream",
     "text": [
      "Hello!\n",
      "10\n",
      "8\n",
      "6\n",
      "4\n",
      "2\n"
     ]
    }
   ],
   "source": [
    "# Convert the following code into code that uses a for loop.\n",
    "\n",
    "# prints Hello!\n",
    "# prints 10\n",
    "# prints 8\n",
    "# prints 6\n",
    "# prints 4\n",
    "# prints 2\n",
    "\n",
    "print(\"Hello!\")\n",
    "\n",
    "for num in range(10,1,-2):\n",
    "    print(num)"
   ]
  },
  {
   "cell_type": "code",
   "execution_count": 10,
   "metadata": {},
   "outputs": [
    {
     "name": "stdout",
     "output_type": "stream",
     "text": [
      "120\n"
     ]
    }
   ],
   "source": [
    "# Write a for loop that sums the values 1 through end, inclusive. end is a variable that we define for you. \n",
    "# So, for example, if we define end to be 6, your code should print out the result:\n",
    "\n",
    "# 21\n",
    "# which is 1 + 2 + 3 + 4 + 5 + 6.\n",
    "\n",
    "\n",
    "end = 15 \n",
    "total = 0 \n",
    "\n",
    "for num in range(1,end+1):  ##adding a one to the stop parameter ensures that the value \"end\" is included in the total\n",
    "    total += num\n",
    "print(total)"
   ]
  },
  {
   "cell_type": "markdown",
   "metadata": {},
   "source": [
    "# ITERATION"
   ]
  },
  {
   "cell_type": "code",
   "execution_count": 11,
   "metadata": {},
   "outputs": [
    {
     "name": "stdout",
     "output_type": "stream",
     "text": [
      "3*3 = 9\n"
     ]
    }
   ],
   "source": [
    "x = 3\n",
    "ans = 0 \n",
    "\n",
    "itersLeft = x \n",
    "while (itersLeft !=0):\n",
    "    ans = ans + x\n",
    "    itersLeft = itersLeft - 1 \n",
    "print(str(x) + '*' + str(x) + ' = ' + str(ans))"
   ]
  },
  {
   "cell_type": "code",
   "execution_count": 1,
   "metadata": {},
   "outputs": [
    {
     "name": "stdout",
     "output_type": "stream",
     "text": [
      "0\n",
      "1\n",
      "2\n",
      "3\n",
      "4\n",
      "4\n"
     ]
    }
   ],
   "source": [
    "num = 10\n",
    "for num in range(5):  ##using only one number as parameter in the range function, creates a sequence of numbers beg at 0 and up to but excluding the number given\n",
    "    print(num)\n",
    "print(num)"
   ]
  },
  {
   "cell_type": "code",
   "execution_count": 2,
   "metadata": {},
   "outputs": [
    {
     "name": "stdout",
     "output_type": "stream",
     "text": [
      "0.0\n",
      "1.0\n",
      "2.0\n",
      "3.0\n",
      "4.0\n"
     ]
    }
   ],
   "source": [
    "divisor = 2\n",
    "for num in range(0, 10, 2):\n",
    "    print(num/divisor)   ##The true division operator / will always return a float in Python."
   ]
  },
  {
   "cell_type": "code",
   "execution_count": 5,
   "metadata": {},
   "outputs": [
    {
     "name": "stdout",
     "output_type": "stream",
     "text": [
      "0\n",
      "Foo!\n",
      "4\n",
      "8\n",
      "12\n",
      "16\n",
      "Foo!\n"
     ]
    }
   ],
   "source": [
    "for variable in range(20):  #creates a sequence of 0 to 19 \n",
    "    if variable % 4 == 0:\n",
    "        print(variable)\n",
    "    if variable % 16 == 0:\n",
    "        print('Foo!') "
   ]
  },
  {
   "cell_type": "code",
   "execution_count": 21,
   "metadata": {},
   "outputs": [
    {
     "data": {
      "text/plain": [
       "0"
      ]
     },
     "execution_count": 21,
     "metadata": {},
     "output_type": "execute_result"
    }
   ],
   "source": [
    "0 % 16"
   ]
  },
  {
   "cell_type": "code",
   "execution_count": 8,
   "metadata": {},
   "outputs": [
    {
     "name": "stdout",
     "output_type": "stream",
     "text": [
      "h\n",
      "o\n",
      "l\n",
      "a\n"
     ]
    }
   ],
   "source": [
    "for letter in 'hola':\n",
    "    print(letter)  "
   ]
  },
  {
   "cell_type": "code",
   "execution_count": 22,
   "metadata": {},
   "outputs": [
    {
     "name": "stdout",
     "output_type": "stream",
     "text": [
      "Letter # 0 is S\n",
      "1\n"
     ]
    }
   ],
   "source": [
    "count = 0\n",
    "for letter in 'Snow!':\n",
    "    print('Letter # ' + str(count) + ' is ' + str(letter))\n",
    "    count += 1\n",
    "    break\n",
    "print(count)"
   ]
  },
  {
   "cell_type": "code",
   "execution_count": null,
   "metadata": {},
   "outputs": [],
   "source": []
  }
 ],
 "metadata": {
  "interpreter": {
   "hash": "35814977a283cd769a53edfec29b9560f6d54622677c01a029034c610ae113d2"
  },
  "kernelspec": {
   "display_name": "Python 3.9.6 64-bit",
   "language": "python",
   "name": "python3"
  },
  "language_info": {
   "codemirror_mode": {
    "name": "ipython",
    "version": 3
   },
   "file_extension": ".py",
   "mimetype": "text/x-python",
   "name": "python",
   "nbconvert_exporter": "python",
   "pygments_lexer": "ipython3",
   "version": "3.9.6"
  },
  "orig_nbformat": 4
 },
 "nbformat": 4,
 "nbformat_minor": 2
}
