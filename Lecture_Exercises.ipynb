{
 "cells": [
  {
   "cell_type": "code",
   "execution_count": 1,
   "metadata": {},
   "outputs": [
    {
     "name": "stdout",
     "output_type": "stream",
     "text": [
      "You got out of the Lost Forest\n"
     ]
    }
   ],
   "source": [
    "#While Loops\n",
    "\n",
    "n = input(\"You are in the Lost Forest. Go left of right? \")\n",
    "while n == \"right\":\n",
    "    n = input(\"You are in the Lost Forest. Go left of right? \")\n",
    "print(\"You got out of the Lost Forest\")"
   ]
  },
  {
   "cell_type": "code",
   "execution_count": 2,
   "metadata": {},
   "outputs": [
    {
     "name": "stdout",
     "output_type": "stream",
     "text": [
      "50\n"
     ]
    }
   ],
   "source": [
    "#for loops\n",
    "\n",
    "mysum = 0 \n",
    "\n",
    "for i in range(6,15,2):\n",
    "    mysum += i\n",
    "    if mysum == 5:\n",
    "        break\n",
    "\n",
    "print(mysum)"
   ]
  },
  {
   "cell_type": "code",
   "execution_count": 3,
   "metadata": {},
   "outputs": [
    {
     "ename": "KeyboardInterrupt",
     "evalue": "",
     "output_type": "error",
     "traceback": [
      "\u001b[1;31m---------------------------------------------------------------------------\u001b[0m",
      "\u001b[1;31mKeyboardInterrupt\u001b[0m                         Traceback (most recent call last)",
      "\u001b[1;32mUbuntu-18.04\\home\\lmedina20\\MITx-6.00.1x\\Exercises.ipynb Cell 4'\u001b[0m in \u001b[0;36m<module>\u001b[1;34m\u001b[0m\n\u001b[0;32m      <a href='vscode-notebook-cell://wsl%24/Ubuntu-18.04/home/lmedina20/MITx-6.00.1x/Exercises.ipynb#ch0000003?line=0'>1</a>\u001b[0m num \u001b[39m=\u001b[39m \u001b[39m100\u001b[39m\n\u001b[0;32m      <a href='vscode-notebook-cell://wsl%24/Ubuntu-18.04/home/lmedina20/MITx-6.00.1x/Exercises.ipynb#ch0000003?line=1'>2</a>\u001b[0m \u001b[39mwhile\u001b[39;00m \u001b[39mnot\u001b[39;00m \u001b[39mFalse\u001b[39;00m:  \u001b[39m#while the if statement is true...\u001b[39;00m\n\u001b[1;32m----> <a href='vscode-notebook-cell://wsl%24/Ubuntu-18.04/home/lmedina20/MITx-6.00.1x/Exercises.ipynb#ch0000003?line=2'>3</a>\u001b[0m     \u001b[39mif\u001b[39;00m num \u001b[39m<\u001b[39m \u001b[39m0\u001b[39m:   \u001b[39m#if 100 is less than 0 (FALSE)\u001b[39;00m\n\u001b[0;32m      <a href='vscode-notebook-cell://wsl%24/Ubuntu-18.04/home/lmedina20/MITx-6.00.1x/Exercises.ipynb#ch0000003?line=3'>4</a>\u001b[0m         \u001b[39mbreak\u001b[39;00m      \u001b[39m#exit this loop \u001b[39;00m\n\u001b[0;32m      <a href='vscode-notebook-cell://wsl%24/Ubuntu-18.04/home/lmedina20/MITx-6.00.1x/Exercises.ipynb#ch0000003?line=4'>5</a>\u001b[0m \u001b[39mprint\u001b[39m(\u001b[39m'\u001b[39m\u001b[39mnum is: \u001b[39m\u001b[39m'\u001b[39m \u001b[39m+\u001b[39m \u001b[39mstr\u001b[39m(num))\n",
      "\u001b[1;31mKeyboardInterrupt\u001b[0m: "
     ]
    }
   ],
   "source": [
    "num = 100\n",
    "while not False:  #while the if statement is true...\n",
    "    if num < 0:   #if 100 is less than 0 (FALSE)\n",
    "        break      #exit this loop \n",
    "print('num is: ' + str(num))  #this is outside the loop, so print it? \n",
    "\n",
    "#infinite loop is correct answer "
   ]
  },
  {
   "cell_type": "code",
   "execution_count": 5,
   "metadata": {},
   "outputs": [
    {
     "name": "stdout",
     "output_type": "stream",
     "text": [
      "10\n",
      "9\n",
      "8\n",
      "7\n",
      "Breaking out of loop\n",
      "Outside of loop\n"
     ]
    }
   ],
   "source": [
    "num = 10\n",
    "while True:\n",
    "    if num < 7:\n",
    "        print('Breaking out of loop')\n",
    "        break\n",
    "    print(num)\n",
    "    num -= 1\n",
    "print('Outside of loop')\n",
    "\n",
    "#While the If statement is True, run through block of code\n",
    "    #if statement evaluates if num is less than 7\n",
    "    #if true, print out breaking out of loop and break this loop (loop includes the print num statement and the counter), then print outside of loop\n",
    "    #if false, then continute to the print(num) statement and counter and return back to if statement for reevaluation  "
   ]
  },
  {
   "cell_type": "code",
   "execution_count": 6,
   "metadata": {},
   "outputs": [
    {
     "ename": "KeyboardInterrupt",
     "evalue": "",
     "output_type": "error",
     "traceback": [
      "\u001b[1;31m---------------------------------------------------------------------------\u001b[0m",
      "\u001b[1;31mKeyboardInterrupt\u001b[0m                         Traceback (most recent call last)",
      "\u001b[1;32mUbuntu-18.04\\home\\lmedina20\\MITx-6.00.1x\\Exercises.ipynb Cell 6'\u001b[0m in \u001b[0;36m<module>\u001b[1;34m\u001b[0m\n\u001b[0;32m      <a href='vscode-notebook-cell://wsl%24/Ubuntu-18.04/home/lmedina20/MITx-6.00.1x/Exercises.ipynb#ch0000004?line=2'>3</a>\u001b[0m \u001b[39mwhile\u001b[39;00m numberOfLoops \u001b[39m<\u001b[39m \u001b[39m10\u001b[39m:\n\u001b[0;32m      <a href='vscode-notebook-cell://wsl%24/Ubuntu-18.04/home/lmedina20/MITx-6.00.1x/Exercises.ipynb#ch0000004?line=3'>4</a>\u001b[0m     numberOfApples \u001b[39m*\u001b[39m\u001b[39m=\u001b[39m \u001b[39m2\u001b[39m\n\u001b[1;32m----> <a href='vscode-notebook-cell://wsl%24/Ubuntu-18.04/home/lmedina20/MITx-6.00.1x/Exercises.ipynb#ch0000004?line=4'>5</a>\u001b[0m     numberOfApples \u001b[39m+\u001b[39m\u001b[39m=\u001b[39m numberOfLoops\n\u001b[0;32m      <a href='vscode-notebook-cell://wsl%24/Ubuntu-18.04/home/lmedina20/MITx-6.00.1x/Exercises.ipynb#ch0000004?line=5'>6</a>\u001b[0m     numberOfLoops \u001b[39m-\u001b[39m\u001b[39m=\u001b[39m \u001b[39m1\u001b[39m\n\u001b[0;32m      <a href='vscode-notebook-cell://wsl%24/Ubuntu-18.04/home/lmedina20/MITx-6.00.1x/Exercises.ipynb#ch0000004?line=6'>7</a>\u001b[0m \u001b[39mprint\u001b[39m(\u001b[39m\"\u001b[39m\u001b[39mNumber of apples: \u001b[39m\u001b[39m\"\u001b[39m \u001b[39m+\u001b[39m \u001b[39mstr\u001b[39m(numberOfApples))\n",
      "\u001b[1;31mKeyboardInterrupt\u001b[0m: "
     ]
    }
   ],
   "source": [
    "numberOfLoops = 0\n",
    "numberOfApples = 2\n",
    "while numberOfLoops < 10:\n",
    "    numberOfApples *= 2\n",
    "    numberOfApples += numberOfLoops\n",
    "    numberOfLoops -= 1\n",
    "print(\"Number of apples: \" + str(numberOfApples))\n",
    "\n",
    "#infinite loop "
   ]
  },
  {
   "cell_type": "code",
   "execution_count": 25,
   "metadata": {},
   "outputs": [
    {
     "name": "stdout",
     "output_type": "stream",
     "text": [
      "21\n"
     ]
    }
   ],
   "source": [
    "#Write a while loop that sums the values 1 through end, inclusive. end is a variable that we define for you. \n",
    "#So, for example, if we define end to be 6, your code should print out the result:21.  Which is 1 + 2 + 3 + 4 + 5 + 6.\n",
    "\n",
    "end = 6  \n",
    "total = 0\n",
    "\n",
    "while end:\n",
    "    total = total + end\n",
    "    end = end - 1\n",
    "print(total)"
   ]
  },
  {
   "cell_type": "code",
   "execution_count": 2,
   "metadata": {},
   "outputs": [
    {
     "name": "stdout",
     "output_type": "stream",
     "text": [
      "2\n",
      "4\n",
      "6\n",
      "8\n",
      "10\n",
      "Goodbye!\n"
     ]
    }
   ],
   "source": [
    "# convert the following into code that uses a while loop\n",
    "# prints 2\n",
    "# prints 4\n",
    "# prints 6\n",
    "# prints 8\n",
    "# prints 10\n",
    "# prints Goodbye!\n",
    "\n",
    "num = 2\n",
    "\n",
    "while num < 12:\n",
    "    print(num)\n",
    "    num += 2\n",
    "print(\"Goodbye!\")"
   ]
  },
  {
   "cell_type": "code",
   "execution_count": 4,
   "metadata": {},
   "outputs": [
    {
     "name": "stdout",
     "output_type": "stream",
     "text": [
      "Hello!\n",
      "10\n",
      "8\n",
      "6\n",
      "4\n",
      "2\n"
     ]
    }
   ],
   "source": [
    "# Convert the following into code that uses a while loop.\n",
    "\n",
    "# prints Hello!\n",
    "# prints 10\n",
    "# prints 8\n",
    "# prints 6\n",
    "# prints 4\n",
    "# prints 2\n",
    "\n",
    "num = 12\n",
    "\n",
    "print(\"Hello!\")\n",
    "while num > 2:\n",
    "    num -= 2\n",
    "    print(num)\n"
   ]
  },
  {
   "cell_type": "code",
   "execution_count": 5,
   "metadata": {},
   "outputs": [
    {
     "name": "stdout",
     "output_type": "stream",
     "text": [
      "2\n",
      "4\n",
      "6\n",
      "8\n",
      "10\n",
      "Goodbye!\n"
     ]
    }
   ],
   "source": [
    "# Convert the following code into code that uses a for loop.\n",
    "\n",
    "# prints 2\n",
    "# prints 4\n",
    "# prints 6\n",
    "# prints 8\n",
    "# prints 10\n",
    "# prints Goodbye!\n",
    "\n",
    "for num in range(2,11,2):  #(start, stop, step)    ##does stop include the number ? using 11 and 12 outputs the correct answer \n",
    "    print(num)\n",
    "print(\"Goodbye!\")"
   ]
  },
  {
   "cell_type": "code",
   "execution_count": 6,
   "metadata": {},
   "outputs": [
    {
     "name": "stdout",
     "output_type": "stream",
     "text": [
      "Hello!\n",
      "10\n",
      "8\n",
      "6\n",
      "4\n",
      "2\n"
     ]
    }
   ],
   "source": [
    "# Convert the following code into code that uses a for loop.\n",
    "\n",
    "# prints Hello!\n",
    "# prints 10\n",
    "# prints 8\n",
    "# prints 6\n",
    "# prints 4\n",
    "# prints 2\n",
    "\n",
    "print(\"Hello!\")\n",
    "\n",
    "for num in range(10,1,-2):\n",
    "    print(num)"
   ]
  },
  {
   "cell_type": "code",
   "execution_count": 10,
   "metadata": {},
   "outputs": [
    {
     "name": "stdout",
     "output_type": "stream",
     "text": [
      "120\n"
     ]
    }
   ],
   "source": [
    "# Write a for loop that sums the values 1 through end, inclusive. end is a variable that we define for you. \n",
    "# So, for example, if we define end to be 6, your code should print out the result:\n",
    "\n",
    "# 21\n",
    "# which is 1 + 2 + 3 + 4 + 5 + 6.\n",
    "\n",
    "\n",
    "end = 15 \n",
    "total = 0 \n",
    "\n",
    "for num in range(1,end+1):  ##adding a one to the stop parameter ensures that the value \"end\" is included in the total\n",
    "    total += num\n",
    "print(total)"
   ]
  },
  {
   "cell_type": "code",
   "execution_count": 11,
   "metadata": {},
   "outputs": [
    {
     "name": "stdout",
     "output_type": "stream",
     "text": [
      "3*3 = 9\n"
     ]
    }
   ],
   "source": [
    "x = 3\n",
    "ans = 0 \n",
    "\n",
    "itersLeft = x \n",
    "while (itersLeft !=0):\n",
    "    ans = ans + x\n",
    "    itersLeft = itersLeft - 1 \n",
    "print(str(x) + '*' + str(x) + ' = ' + str(ans))"
   ]
  },
  {
   "cell_type": "code",
   "execution_count": 1,
   "metadata": {},
   "outputs": [
    {
     "name": "stdout",
     "output_type": "stream",
     "text": [
      "0\n",
      "1\n",
      "2\n",
      "3\n",
      "4\n",
      "4\n"
     ]
    }
   ],
   "source": [
    "num = 10\n",
    "for num in range(5):  #0,1,2,3,4 ##using only one number as parameter in the range function, creates a sequence of numbers beg at 0 and up to but excluding the number given\n",
    "    print(num)\n",
    "print(num)"
   ]
  },
  {
   "cell_type": "code",
   "execution_count": 2,
   "metadata": {},
   "outputs": [
    {
     "name": "stdout",
     "output_type": "stream",
     "text": [
      "0.0\n",
      "1.0\n",
      "2.0\n",
      "3.0\n",
      "4.0\n"
     ]
    }
   ],
   "source": [
    "divisor = 2\n",
    "for num in range(0, 10, 2):\n",
    "    print(num/divisor)   ##The true division operator / will always return a float in Python."
   ]
  },
  {
   "cell_type": "code",
   "execution_count": 5,
   "metadata": {},
   "outputs": [
    {
     "name": "stdout",
     "output_type": "stream",
     "text": [
      "0\n",
      "Foo!\n",
      "4\n",
      "8\n",
      "12\n",
      "16\n",
      "Foo!\n"
     ]
    }
   ],
   "source": [
    "for variable in range(20):  #creates a sequence of 0 to 19 \n",
    "    if variable % 4 == 0:\n",
    "        print(variable)\n",
    "    if variable % 16 == 0:\n",
    "        print('Foo!') "
   ]
  },
  {
   "cell_type": "code",
   "execution_count": 31,
   "metadata": {},
   "outputs": [
    {
     "name": "stdout",
     "output_type": "stream",
     "text": [
      "0\n",
      "0\n",
      "1\n",
      "1\n",
      "2\n",
      "2\n",
      "3\n",
      "3\n",
      "0\n",
      "4\n",
      "1\n",
      "5\n",
      "2\n",
      "6\n",
      "3\n",
      "7\n",
      "0\n",
      "8\n"
     ]
    }
   ],
   "source": [
    "print(0 % 4) #0\n",
    "print(0 % 16) #Foo!\n",
    "\n",
    "print(1 % 4) #skip\n",
    "print(1 % 16) #skip \n",
    "\n",
    "print(2 % 4) #skip \n",
    "print(2 % 16) #skip \n",
    "\n",
    "print(3 % 4) #skip \n",
    "print(3 % 16) #skip\n",
    "\n",
    "print(4 % 4) #4\n",
    "print(4 %16) #skip \n",
    "\n",
    "print(5 %4) #skip\n",
    "print(5 %16) #skip\n",
    "\n",
    "print(6%4) #skip \n",
    "print(6%16) #skip\n",
    "\n",
    "print(7%4) #skip \n",
    "print(7%16) #skip\n",
    "\n",
    "print(8 %4) #8\n",
    "print(8%16) #skip "
   ]
  },
  {
   "cell_type": "code",
   "execution_count": 8,
   "metadata": {},
   "outputs": [
    {
     "name": "stdout",
     "output_type": "stream",
     "text": [
      "h\n",
      "o\n",
      "l\n",
      "a\n"
     ]
    }
   ],
   "source": [
    "for letter in 'hola':\n",
    "    print(letter)  "
   ]
  },
  {
   "cell_type": "code",
   "execution_count": 22,
   "metadata": {},
   "outputs": [
    {
     "name": "stdout",
     "output_type": "stream",
     "text": [
      "Letter # 0 is S\n",
      "1\n"
     ]
    }
   ],
   "source": [
    "count = 0\n",
    "for letter in 'Snow!':\n",
    "    print('Letter # ' + str(count) + ' is ' + str(letter))\n",
    "    count += 1\n",
    "    break\n",
    "print(count)"
   ]
  },
  {
   "cell_type": "code",
   "execution_count": 1,
   "metadata": {},
   "outputs": [
    {
     "name": "stdout",
     "output_type": "stream",
     "text": [
      "M\n",
      "numVowels is: 11\n",
      "numCons is: -25\n"
     ]
    }
   ],
   "source": [
    "school = 'Massachusetts Institute of Technology'\n",
    "numVowels = 0\n",
    "numCons = 0\n",
    "\n",
    "for char in school:\n",
    "    if char == 'a' or char == 'e' or char == 'i' \\\n",
    "       or char == 'o' or char == 'u':\n",
    "        numVowels += 1\n",
    "    elif char == 'o' or char == 'M':\n",
    "        print(char)\n",
    "    else:\n",
    "        numCons -= 1\n",
    "\n",
    "print('numVowels is: ' + str(numVowels))\n",
    "print('numCons is: ' + str(numCons))"
   ]
  },
  {
   "cell_type": "code",
   "execution_count": 2,
   "metadata": {},
   "outputs": [
    {
     "name": "stdout",
     "output_type": "stream",
     "text": [
      "Iteration 0; count is: 12\n",
      "Iteration 1; count is: 24\n",
      "Iteration 2; count is: 36\n",
      "Iteration 3; count is: 48\n",
      "Iteration 4; count is: 60\n"
     ]
    }
   ],
   "source": [
    "#Unit 1.2 18 of 18 \n",
    "#Ex7 Code Sample \n",
    "\n",
    "iteration = 0\n",
    "count = 0\n",
    "while iteration < 5:\n",
    "    for letter in \"hello, world\":\n",
    "        count += 1\n",
    "    print(\"Iteration \" + str(iteration) + \"; count is: \" + str(count))\n",
    "    iteration += 1"
   ]
  },
  {
   "cell_type": "code",
   "execution_count": 1,
   "metadata": {},
   "outputs": [
    {
     "name": "stdout",
     "output_type": "stream",
     "text": [
      "Iteration 0; count is: 12\n",
      "Iteration 1; count is: 12\n",
      "Iteration 2; count is: 12\n",
      "Iteration 3; count is: 12\n",
      "Iteration 4; count is: 12\n"
     ]
    }
   ],
   "source": [
    "#Unit 1.2 18 of 18 \n",
    "#Ex7 Test 1 \n",
    "\n",
    "for iteration in range(5):\n",
    "    count = 0\n",
    "    while True:\n",
    "        for letter in \"hello, world\":\n",
    "            count += 1\n",
    "        print(\"Iteration \" + str(iteration) + \"; count is: \" + str(count))\n",
    "        break"
   ]
  },
  {
   "cell_type": "code",
   "execution_count": 2,
   "metadata": {},
   "outputs": [
    {
     "name": "stdout",
     "output_type": "stream",
     "text": [
      "Iteration 0; count is: 12\n",
      "Iteration 1; count is: 12\n",
      "Iteration 2; count is: 12\n",
      "Iteration 3; count is: 12\n",
      "Iteration 4; count is: 12\n"
     ]
    }
   ],
   "source": [
    "#Unit 1.2 18 of 18 \n",
    "#Ex7 Test 2 \n",
    "\n",
    "for iteration in range(5):\n",
    "    count = 0\n",
    "    while True:\n",
    "        for letter in \"hello, world\":\n",
    "            count += 1\n",
    "        print(\"Iteration \" + str(iteration) + \"; count is: \" + str(count))\n",
    "        break  ##added break so notebook looks clean but original problem excludes it"
   ]
  },
  {
   "cell_type": "code",
   "execution_count": 5,
   "metadata": {},
   "outputs": [
    {
     "name": "stdout",
     "output_type": "stream",
     "text": [
      "Iteration 0; count is: 12\n",
      "Iteration 1; count is: 24\n",
      "Iteration 2; count is: 36\n",
      "Iteration 3; count is: 48\n",
      "Iteration 4; count is: 60\n"
     ]
    }
   ],
   "source": [
    "## QUESTION: how come count prints to 12? Shouldn't it print 1 the first loop? \n",
    "#this is Unit 1, 2.core elements 18 of 18 Ex 7 \n",
    "# Test 3\n",
    "count = 0\n",
    "phrase = \"hello, world\"  # 12 \n",
    "for iteration in range(5):\n",
    "    index = 0\n",
    "    while index < len(phrase):\n",
    "        count += 1\n",
    "        index += 1\n",
    "    print(\"Iteration \" + str(iteration) + \"; count is: \" + str(count))"
   ]
  },
  {
   "cell_type": "code",
   "execution_count": 4,
   "metadata": {},
   "outputs": [
    {
     "name": "stdout",
     "output_type": "stream",
     "text": [
      "Iteration 0; count is: 12\n",
      "Iteration 1; count is: 24\n",
      "Iteration 2; count is: 36\n",
      "Iteration 3; count is: 48\n",
      "Iteration 4; count is: 60\n"
     ]
    }
   ],
   "source": [
    "#Unit 1.2 18 of 18 \n",
    "#Ex7 Test 4 \n",
    "\n",
    "count = 0\n",
    "phrase = \"hello, world\"\n",
    "for iteration in range(5): ##0, 1, 2, 3, 4 \n",
    "    while True:\n",
    "        count += len(phrase)  ##12 \n",
    "        break\n",
    "    print(\"Iteration \" + str(iteration) + \"; count is: \" + str(count))"
   ]
  },
  {
   "cell_type": "code",
   "execution_count": 5,
   "metadata": {},
   "outputs": [
    {
     "data": {
      "text/plain": [
       "12"
      ]
     },
     "execution_count": 5,
     "metadata": {},
     "output_type": "execute_result"
    }
   ],
   "source": [
    "len(phrase)"
   ]
  },
  {
   "cell_type": "code",
   "execution_count": 8,
   "metadata": {},
   "outputs": [
    {
     "name": "stdout",
     "output_type": "stream",
     "text": [
      "Iteration 0; count is: 12\n",
      "Iteration 1; count is: 24\n",
      "Iteration 2; count is: 36\n",
      "Iteration 3; count is: 48\n",
      "Iteration 4; count is: 60\n"
     ]
    }
   ],
   "source": [
    "#Unit 1.2 18 of 18 \n",
    "#Ex7 Test 5\n",
    "\n",
    "count = 0\n",
    "phrase = \"hello, world\"\n",
    "for iteration in range(5):\n",
    "    count += len(phrase)\n",
    "    print(\"Iteration \" + str(iteration) + \"; count is: \" + str(count))"
   ]
  },
  {
   "cell_type": "code",
   "execution_count": 11,
   "metadata": {},
   "outputs": [
    {
     "name": "stdout",
     "output_type": "stream",
     "text": [
      "Iteration 0; count is: 12\n",
      "Iteration 1; count is: 12\n",
      "Iteration 2; count is: 12\n",
      "Iteration 3; count is: 12\n",
      "Iteration 4; count is: 12\n"
     ]
    }
   ],
   "source": [
    "#Unit 2.3 EX 1 \n",
    "\n",
    "iteration = 0\n",
    "while iteration < 5:\n",
    "    count = 0\n",
    "    for letter in \"hello, world\":\n",
    "        count += 1\n",
    "    print(\"Iteration \" + str(iteration) + \"; count is: \" + str(count))\n",
    "    iteration += 1 \n",
    "#in this example, the count=0 being inside the while loop causes it to be \n",
    "#reset to 0 everytime the while loop is restarted "
   ]
  },
  {
   "cell_type": "code",
   "execution_count": 14,
   "metadata": {},
   "outputs": [
    {
     "name": "stdout",
     "output_type": "stream",
     "text": [
      "Iteration 0; count is: 1\n",
      "Iteration 1; count is: 12\n",
      "Iteration 2; count is: 1\n",
      "Iteration 3; count is: 12\n",
      "Iteration 4; count is: 1\n"
     ]
    }
   ],
   "source": [
    "iteration = 0\n",
    "while iteration < 5:\n",
    "    count = 0\n",
    "    for letter in \"hello, world\":\n",
    "        count += 1\n",
    "        if iteration % 2 == 0:\n",
    "            break\n",
    "    print(\"Iteration \" + str(iteration) + \"; count is: \" + str(count))\n",
    "    iteration += 1 "
   ]
  },
  {
   "cell_type": "code",
   "execution_count": 16,
   "metadata": {},
   "outputs": [
    {
     "name": "stdout",
     "output_type": "stream",
     "text": [
      "succeeded: 4.999999999999998\n"
     ]
    }
   ],
   "source": [
    "#Unit 2.3 EX 2 \n",
    "\n",
    "x = 25\n",
    "epsilon = 0.01\n",
    "step = 0.1\n",
    "guess = 0.0\n",
    "\n",
    "while guess <= x:\n",
    "    if abs(guess**2 -x) < epsilon:\n",
    "        break\n",
    "    else:\n",
    "        guess += step\n",
    "\n",
    "if abs(guess**2 - x) >= epsilon:\n",
    "    print('failed')\n",
    "else:\n",
    "    print('succeeded: ' + str(guess))"
   ]
  },
  {
   "cell_type": "code",
   "execution_count": 17,
   "metadata": {},
   "outputs": [
    {
     "ename": "KeyboardInterrupt",
     "evalue": "",
     "output_type": "error",
     "traceback": [
      "\u001b[1;31m---------------------------------------------------------------------------\u001b[0m",
      "\u001b[1;31mKeyboardInterrupt\u001b[0m                         Traceback (most recent call last)",
      "\u001b[1;32mUbuntu-18.04\\home\\lmedina20\\MITx-6.00.1x\\finger-exercises.ipynb Cell 32'\u001b[0m in \u001b[0;36m<module>\u001b[1;34m\u001b[0m\n\u001b[0;32m      <a href='vscode-notebook-cell://wsl%24/Ubuntu-18.04/home/lmedina20/MITx-6.00.1x/finger-exercises.ipynb#ch0000037?line=3'>4</a>\u001b[0m guess \u001b[39m=\u001b[39m \u001b[39m0.0\u001b[39m\n\u001b[0;32m      <a href='vscode-notebook-cell://wsl%24/Ubuntu-18.04/home/lmedina20/MITx-6.00.1x/finger-exercises.ipynb#ch0000037?line=5'>6</a>\u001b[0m \u001b[39mwhile\u001b[39;00m guess \u001b[39m<\u001b[39m\u001b[39m=\u001b[39m x:\n\u001b[1;32m----> <a href='vscode-notebook-cell://wsl%24/Ubuntu-18.04/home/lmedina20/MITx-6.00.1x/finger-exercises.ipynb#ch0000037?line=6'>7</a>\u001b[0m     \u001b[39mif\u001b[39;00m \u001b[39mabs\u001b[39m(guess\u001b[39m*\u001b[39m\u001b[39m*\u001b[39m\u001b[39m2\u001b[39m \u001b[39m-\u001b[39mx) \u001b[39m>\u001b[39m\u001b[39m=\u001b[39m epsilon:\n\u001b[0;32m      <a href='vscode-notebook-cell://wsl%24/Ubuntu-18.04/home/lmedina20/MITx-6.00.1x/finger-exercises.ipynb#ch0000037?line=7'>8</a>\u001b[0m         guess \u001b[39m+\u001b[39m\u001b[39m=\u001b[39m step\n\u001b[0;32m     <a href='vscode-notebook-cell://wsl%24/Ubuntu-18.04/home/lmedina20/MITx-6.00.1x/finger-exercises.ipynb#ch0000037?line=9'>10</a>\u001b[0m \u001b[39mif\u001b[39;00m \u001b[39mabs\u001b[39m(guess\u001b[39m*\u001b[39m\u001b[39m*\u001b[39m\u001b[39m2\u001b[39m \u001b[39m-\u001b[39m x) \u001b[39m>\u001b[39m\u001b[39m=\u001b[39m epsilon:\n",
      "\u001b[1;31mKeyboardInterrupt\u001b[0m: "
     ]
    }
   ],
   "source": [
    "x = 25\n",
    "epsilon = 0.01\n",
    "step = 0.1\n",
    "guess = 0.0\n",
    "\n",
    "while guess <= x:\n",
    "    if abs(guess**2 -x) >= epsilon:\n",
    "        guess += step\n",
    "\n",
    "if abs(guess**2 - x) >= epsilon:\n",
    "    print('failed')\n",
    "else:\n",
    "    print('succeeded: ' + str(guess))"
   ]
  },
  {
   "cell_type": "code",
   "execution_count": 18,
   "metadata": {},
   "outputs": [
    {
     "name": "stdout",
     "output_type": "stream",
     "text": [
      "succeeded: 4.999999999999998\n"
     ]
    }
   ],
   "source": [
    "x = 25\n",
    "epsilon = 0.01\n",
    "step = 0.1\n",
    "guess = 0.0\n",
    "\n",
    "while abs(guess**2-x) >= epsilon:\n",
    "    if guess <= x:\n",
    "        guess += step\n",
    "    else:\n",
    "        break\n",
    "\n",
    "if abs(guess**2 - x) >= epsilon:\n",
    "    print('failed')\n",
    "else:\n",
    "    print('succeeded: ' + str(guess))"
   ]
  },
  {
   "cell_type": "code",
   "execution_count": 19,
   "metadata": {},
   "outputs": [
    {
     "name": "stdout",
     "output_type": "stream",
     "text": [
      "failed\n"
     ]
    }
   ],
   "source": [
    "x = 23\n",
    "epsilon = 0.01\n",
    "step = 0.1\n",
    "guess = 0.0\n",
    "\n",
    "while abs(guess**2-x) >= epsilon:\n",
    "    if guess <= x:\n",
    "        guess += step\n",
    "    else:\n",
    "        break\n",
    "\n",
    "if abs(guess**2 - x) >= epsilon:\n",
    "    print('failed')\n",
    "else:\n",
    "    print('succeeded: ' + str(guess))"
   ]
  },
  {
   "cell_type": "code",
   "execution_count": 22,
   "metadata": {},
   "outputs": [
    {
     "name": "stdout",
     "output_type": "stream",
     "text": [
      "Hi\n",
      "there\n",
      "Hithere\n",
      "Hi*there\n"
     ]
    }
   ],
   "source": [
    "# Notice how if we have two print statements                \n",
    "print(\"Hi\")\n",
    "print(\"there\")\n",
    "\n",
    "# The output will have each string on a separate line:                \n",
    "#Hi\n",
    "#there\n",
    "                \n",
    "# Now try adding the following:\n",
    "print(\"Hi\",end='')\n",
    "print(\"there\")\n",
    "print(\"Hi\",end='*')\n",
    "print(\"there\")   \n",
    "                \n",
    "# The output will place the subsequent string on the same line\n",
    "# and will connect the two prints with the character given by end\n",
    "#Hithere\n",
    "#Hi*there "
   ]
  },
  {
   "cell_type": "code",
   "execution_count": 34,
   "metadata": {},
   "outputs": [
    {
     "name": "stdout",
     "output_type": "stream",
     "text": [
      "Please think of a number between 0 and 100!\n",
      "Is your secret number 50?\n",
      "Is your secret number 25?\n",
      "Game over. Your secret number was: 25\n"
     ]
    }
   ],
   "source": [
    "#this program guesses a secret number \n",
    "\n",
    "print(\"Please think of a number between 0 and 100!\")\n",
    "\n",
    "#the initial endpoints should be 0 and 100 \n",
    "high = 100 \n",
    "low = 0\n",
    "guessed = False\n",
    "\n",
    "#loop until guessed correctly \n",
    "while not guessed: \n",
    "    #bisection search: guess the midpoint between current high and low guesses\n",
    "    guess = (high + low)//2 #this will literally bisect the high and low nums to start off with\n",
    "    print(\"Is your secret number \" + str(guess)+ \"?\")\n",
    "    user_input = input(\"Enter 'h' to indicate the guess is too high. Enter 'l' to indicate the guess is too low. Enter 'c' to indicate I guessed correctly. \")\n",
    "\n",
    "    if user_input == 'c':\n",
    "        guessed = True\n",
    "    elif user_input == 'h':\n",
    "        high = guess \n",
    "    elif user_input == 'l':\n",
    "        low = guess\n",
    "    else:\n",
    "        print(\"Sorry, I did not understand your input.\")\n",
    "\n",
    "#this line will only print when guessed becomes True \n",
    "print(\"Game over. Your secret number was: \" + str(guess))"
   ]
  },
  {
   "cell_type": "code",
   "execution_count": 7,
   "metadata": {},
   "outputs": [],
   "source": [
    "#unit 2.4 functions - exercises\n",
    "\n",
    "#write a functions, square, that takes in one number and returns the square of that number\n",
    "\n",
    "import math\n",
    "def square(x):\n",
    "    '''x:  int or float\n",
    "    '''\n",
    "    num_sqrt = x ** 2\n",
    "    return num_sqrt"
   ]
  },
  {
   "cell_type": "code",
   "execution_count": 8,
   "metadata": {},
   "outputs": [
    {
     "data": {
      "text/plain": [
       "324"
      ]
     },
     "execution_count": 8,
     "metadata": {},
     "output_type": "execute_result"
    }
   ],
   "source": [
    "square(18)"
   ]
  },
  {
   "cell_type": "code",
   "execution_count": 9,
   "metadata": {},
   "outputs": [],
   "source": [
    "#evaluate quadratic function \n",
    "#Write a Python function, evalQuadratic(a, b, c, x), \n",
    "#that returns the value of the quadratic .\n",
    "#This function takes in four numbers and returns a single number.\n",
    "\n",
    "def evalQuadratic(a, b ,c, x):\n",
    "\n",
    "    '''\n",
    "    a, b, c: numerical values for the coefficients of a quadratic equation\n",
    "    x: numerical value at which to evaluate the quadratic. '''\n",
    "\n",
    "    eval = a * (x ** 2) + b * x + c\n",
    "\n",
    "    return eval  "
   ]
  },
  {
   "cell_type": "code",
   "execution_count": 11,
   "metadata": {},
   "outputs": [
    {
     "data": {
      "text/plain": [
       "69"
      ]
     },
     "execution_count": 11,
     "metadata": {},
     "output_type": "execute_result"
    }
   ],
   "source": [
    "evalQuadratic(2,3,4,5)"
   ]
  },
  {
   "cell_type": "code",
   "execution_count": 1,
   "metadata": {},
   "outputs": [],
   "source": [
    "def a(x, y, z):\n",
    "     if x:   #same as saying if x == True \n",
    "         return y\n",
    "     else:\n",
    "         return z\n",
    "\n",
    "def b(q, r):\n",
    "    return a(q>r, q, r)"
   ]
  },
  {
   "cell_type": "code",
   "execution_count": 2,
   "metadata": {},
   "outputs": [
    {
     "data": {
      "text/plain": [
       "3"
      ]
     },
     "execution_count": 2,
     "metadata": {},
     "output_type": "execute_result"
    }
   ],
   "source": [
    "a(False, 2, 3)\n",
    "\n",
    "#since x is NOT true, \n",
    "#then move on to else statement and return value z which is 3"
   ]
  },
  {
   "cell_type": "code",
   "execution_count": 3,
   "metadata": {},
   "outputs": [
    {
     "data": {
      "text/plain": [
       "3"
      ]
     },
     "execution_count": 3,
     "metadata": {},
     "output_type": "execute_result"
    }
   ],
   "source": [
    "b(3, 2)\n",
    "\n",
    "#use values q and r to pass through function a \n",
    "#now evaluate a((3>2), 3, 2 )\n",
    "#since the first parameter is true, \n",
    "#then return value y which is 3"
   ]
  },
  {
   "cell_type": "code",
   "execution_count": 5,
   "metadata": {},
   "outputs": [
    {
     "data": {
      "text/plain": [
       "<function __main__.a(x, y, z)>"
      ]
     },
     "execution_count": 5,
     "metadata": {},
     "output_type": "execute_result"
    }
   ],
   "source": [
    "a(3>2, a, b)"
   ]
  },
  {
   "cell_type": "code",
   "execution_count": 6,
   "metadata": {},
   "outputs": [
    {
     "ename": "TypeError",
     "evalue": "'>' not supported between instances of 'function' and 'function'",
     "output_type": "error",
     "traceback": [
      "\u001b[1;31m---------------------------------------------------------------------------\u001b[0m",
      "\u001b[1;31mTypeError\u001b[0m                                 Traceback (most recent call last)",
      "\u001b[1;32mUbuntu-18.04\\home\\lmedina20\\MITx-6.00.1x\\Lecture Exercises.ipynb Cell 43\u001b[0m in \u001b[0;36m<module>\u001b[1;34m\u001b[0m\n\u001b[1;32m----> <a href='vscode-notebook-cell://wsl%24/Ubuntu-18.04/home/lmedina20/MITx-6.00.1x/Lecture%20Exercises.ipynb#ch0000042?line=0'>1</a>\u001b[0m b(a, b)\n",
      "\u001b[1;32mUbuntu-18.04\\home\\lmedina20\\MITx-6.00.1x\\Lecture Exercises.ipynb Cell 43\u001b[0m in \u001b[0;36mb\u001b[1;34m(q, r)\u001b[0m\n\u001b[0;32m      <a href='vscode-notebook-cell://wsl%24/Ubuntu-18.04/home/lmedina20/MITx-6.00.1x/Lecture%20Exercises.ipynb#ch0000042?line=6'>7</a>\u001b[0m \u001b[39mdef\u001b[39;00m \u001b[39mb\u001b[39m(q, r):\n\u001b[1;32m----> <a href='vscode-notebook-cell://wsl%24/Ubuntu-18.04/home/lmedina20/MITx-6.00.1x/Lecture%20Exercises.ipynb#ch0000042?line=7'>8</a>\u001b[0m     \u001b[39mreturn\u001b[39;00m a(q\u001b[39m>\u001b[39;49mr, q, r)\n",
      "\u001b[1;31mTypeError\u001b[0m: '>' not supported between instances of 'function' and 'function'"
     ]
    }
   ],
   "source": [
    "b(a, b)"
   ]
  },
  {
   "cell_type": "code",
   "execution_count": 9,
   "metadata": {},
   "outputs": [],
   "source": [
    "x = 12\n",
    "\n",
    "def g(x):        #g(12)\n",
    "    x = x + 1    #x = 12 + 1 = 13   \n",
    "    def h(y):    #h(y)\n",
    "        return x + y  #13 + y \n",
    "    return h(6)   #h(6)    # 13 + 6  = 19      "
   ]
  },
  {
   "cell_type": "code",
   "execution_count": 10,
   "metadata": {},
   "outputs": [
    {
     "data": {
      "text/plain": [
       "19"
      ]
     },
     "execution_count": 10,
     "metadata": {},
     "output_type": "execute_result"
    }
   ],
   "source": [
    "g(x)"
   ]
  },
  {
   "cell_type": "code",
   "execution_count": 8,
   "metadata": {},
   "outputs": [
    {
     "data": {
      "text/plain": [
       "4"
      ]
     },
     "execution_count": 8,
     "metadata": {},
     "output_type": "execute_result"
    }
   ],
   "source": [
    "a = 10\n",
    "def f(x):\n",
    "    return x + a\n",
    "a = 3\n",
    "f(1)"
   ]
  },
  {
   "cell_type": "code",
   "execution_count": null,
   "metadata": {},
   "outputs": [],
   "source": []
  }
 ],
 "metadata": {
  "interpreter": {
   "hash": "35814977a283cd769a53edfec29b9560f6d54622677c01a029034c610ae113d2"
  },
  "kernelspec": {
   "display_name": "Python 3.9.6 64-bit",
   "language": "python",
   "name": "python3"
  },
  "language_info": {
   "codemirror_mode": {
    "name": "ipython",
    "version": 3
   },
   "file_extension": ".py",
   "mimetype": "text/x-python",
   "name": "python",
   "nbconvert_exporter": "python",
   "pygments_lexer": "ipython3",
   "version": "3.9.6"
  },
  "orig_nbformat": 4
 },
 "nbformat": 4,
 "nbformat_minor": 2
}
