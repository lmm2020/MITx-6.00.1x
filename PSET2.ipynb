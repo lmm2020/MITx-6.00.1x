{
 "cells": [
  {
   "cell_type": "code",
   "execution_count": 1,
   "metadata": {},
   "outputs": [],
   "source": [
    "#paying debt off in a year\n",
    "\n",
    "#write a program that calculates the minimum fixed monthly payment needed in order pay off a credit card balance within 12 months. \n",
    "#By a fixed monthly payment, we mean a single number which does not change each month, but instead is a constant amount that will be paid each month\n",
    "\n",
    "#The following variables contain values as described below:\n",
    "\n",
    "#balance - the outstanding balance on the credit card\n",
    "#annualInterestRate - annual interest rate as a decimal\n",
    "\n",
    "#The program should print out one line: the lowest monthly payment that will pay off all debt in under 1 year, for example:\n",
    "#Lowest Payment: 180 \n",
    "\n",
    "\n",
    "#monthlyInterestRate = (annualInterestRate) / 12.0 \n",
    "#monthlyUnpaidBalance = (previousBalance) - (minimumFixedMonthlyPayment)\n",
    "#updatedMonthlyBalance = (monthlyUnpaidBalance) + (monthlyInterestRate * monthlyUnpaidBalance) \n",
    "\n"
   ]
  },
  {
   "cell_type": "code",
   "execution_count": 9,
   "metadata": {},
   "outputs": [],
   "source": [
    "#Test Case 1:\n",
    "#balance = 3329\n",
    "#annualInterestRate = 0.2\n",
    "#Result Your Code Should Generate:\n",
    "# -------------------\n",
    "# Lowest Payment: 310\n",
    "\n",
    "balance = 3329 \n",
    "annualInterestRate = 0.2\n",
    "minMonthlyPayment = 0\n",
    "monthlyInterestRate = (annualInterestRate/12) \n",
    "\n",
    "\n",
    "UB = ((balance * annualInterestRate) / 12) #maximum monthly payment\n",
    "LB = (balance / 12) #lower range monthly payment, not the answer\n",
    "\n",
    "guess = (UB + LB)/2 #using bisection to narrow down\n",
    "\n",
    "def yearlyPayment(balance, annualInterestRate):\n",
    "    for month in range(1,13): #for every month in 12 months\n",
    "        #make a payment\n",
    "        balance \n",
    "        #calculate new balance\n",
    "        monthlyUnpaidBalance = balance - guess \n",
    "        #add interest to balance\n",
    "        updatedMonthlyBalance = (monthlyUnpaidBalance) + (monthlyInterestRate * monthlyUnpaidBalance) \n",
    "        #reset balance amount        \n",
    "        balance = updatedMonthlyBalance\n",
    "    return balance"
   ]
  },
  {
   "cell_type": "code",
   "execution_count": 10,
   "metadata": {},
   "outputs": [
    {
     "data": {
      "text/plain": [
       "-2252.1135762717395"
      ]
     },
     "execution_count": 10,
     "metadata": {},
     "output_type": "execute_result"
    }
   ],
   "source": [
    "yearlyPayment(3329, 0.2)"
   ]
  },
  {
   "cell_type": "code",
   "execution_count": 2,
   "metadata": {},
   "outputs": [
    {
     "name": "stdout",
     "output_type": "stream",
     "text": [
      "0\n"
     ]
    }
   ],
   "source": [
    "\n",
    "balance = 3329 \n",
    "annualInterestRate = 0.2\n",
    "minMonthlyPayment = 0\n",
    "monthlyInterestRate = (annualInterestRate/12)\n",
    "\n",
    "while balance >= 0:\n",
    "    for month in range(1,13): #iterate over 12 months\n",
    "        monthlyUnpaidBalance = balance - minMonthlyPayment\n",
    "        updatedMonthlyBalance = (monthlyUnpaidBalance) + (monthlyInterestRate * monthlyUnpaidBalance) \n",
    "        #reset balance amount        \n",
    "        balance = updatedMonthlyBalance\n",
    "    if balance >= 0:\n",
    "        print(minMonthlyPayment)\n",
    "        break\n",
    "    else: \n",
    "        minMonthlyPayment += 10\n"
   ]
  },
  {
   "cell_type": "code",
   "execution_count": null,
   "metadata": {},
   "outputs": [],
   "source": []
  }
 ],
 "metadata": {
  "kernelspec": {
   "display_name": "Python 3.9.6 64-bit",
   "language": "python",
   "name": "python3"
  },
  "language_info": {
   "codemirror_mode": {
    "name": "ipython",
    "version": 3
   },
   "file_extension": ".py",
   "mimetype": "text/x-python",
   "name": "python",
   "nbconvert_exporter": "python",
   "pygments_lexer": "ipython3",
   "version": "3.9.6"
  },
  "orig_nbformat": 4,
  "vscode": {
   "interpreter": {
    "hash": "35814977a283cd769a53edfec29b9560f6d54622677c01a029034c610ae113d2"
   }
  }
 },
 "nbformat": 4,
 "nbformat_minor": 2
}
