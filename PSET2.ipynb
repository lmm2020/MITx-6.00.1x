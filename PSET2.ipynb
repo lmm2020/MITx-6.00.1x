{
 "cells": [
  {
   "cell_type": "code",
   "execution_count": null,
   "metadata": {},
   "outputs": [],
   "source": [
    "#paying debt off in a year\n",
    "\n",
    "#write a program that calculates the minimum fixed monthly payment needed in order pay off a credit card balance within 12 months. \n",
    "#By a fixed monthly payment, we mean a single number which does not change each month, but instead is a constant amount that will be paid each month"
   ]
  }
 ],
 "metadata": {
  "kernelspec": {
   "display_name": "Python 3.9.6 64-bit",
   "language": "python",
   "name": "python3"
  },
  "language_info": {
   "name": "python",
   "version": "3.9.6"
  },
  "orig_nbformat": 4,
  "vscode": {
   "interpreter": {
    "hash": "35814977a283cd769a53edfec29b9560f6d54622677c01a029034c610ae113d2"
   }
  }
 },
 "nbformat": 4,
 "nbformat_minor": 2
}
